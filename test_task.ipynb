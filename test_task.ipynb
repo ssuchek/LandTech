{
 "cells": [
  {
   "cell_type": "code",
   "execution_count": 64,
   "id": "9c128c12",
   "metadata": {},
   "outputs": [],
   "source": [
    "companies = [\n",
    "  { \"id\": \"c1\", \"name\": \"Big Corp A\", \"parentId\": None },\n",
    "  { \"id\": \"c2\", \"name\": \"Big Corp B\", \"parentId\": None },\n",
    "  { \"id\": \"c3\", \"name\": \"Medium Corp A\", \"parentId\": \"c1\" },\n",
    "  { \"id\": \"c4\", \"name\": \"Medium Corp B\", \"parentId\": \"c2\" },\n",
    "  { \"id\": \"c5\", \"name\": \"Small Corp A\", \"parentId\": \"c3\" },\n",
    "  { \"id\": \"c6\", \"name\": \"Small Corp B\", \"parentId\": \"c3\" },\n",
    "]\n",
    " \n",
    "land_parcels = [\n",
    "  { \"id\": \"l1\", \"companyId\": \"c1\" },\n",
    "  { \"id\": \"l2\", \"companyId\": \"c2\" },\n",
    "  { \"id\": \"l3\", \"companyId\": \"c3\" },\n",
    "  { \"id\": \"l4\", \"companyId\": \"c5\" },\n",
    "  { \"id\": \"l5\", \"companyId\": \"c5\" },\n",
    "]"
   ]
  },
  {
   "cell_type": "code",
   "execution_count": 110,
   "id": "a3e8f6b6",
   "metadata": {},
   "outputs": [
    {
     "data": {
      "text/html": [
       "<div>\n",
       "<style scoped>\n",
       "    .dataframe tbody tr th:only-of-type {\n",
       "        vertical-align: middle;\n",
       "    }\n",
       "\n",
       "    .dataframe tbody tr th {\n",
       "        vertical-align: top;\n",
       "    }\n",
       "\n",
       "    .dataframe thead th {\n",
       "        text-align: right;\n",
       "    }\n",
       "</style>\n",
       "<table border=\"1\" class=\"dataframe\">\n",
       "  <thead>\n",
       "    <tr style=\"text-align: right;\">\n",
       "      <th></th>\n",
       "      <th>id</th>\n",
       "      <th>companyId</th>\n",
       "    </tr>\n",
       "  </thead>\n",
       "  <tbody>\n",
       "    <tr>\n",
       "      <th>0</th>\n",
       "      <td>l1</td>\n",
       "      <td>c1</td>\n",
       "    </tr>\n",
       "    <tr>\n",
       "      <th>1</th>\n",
       "      <td>l2</td>\n",
       "      <td>c2</td>\n",
       "    </tr>\n",
       "    <tr>\n",
       "      <th>2</th>\n",
       "      <td>l3</td>\n",
       "      <td>c3</td>\n",
       "    </tr>\n",
       "    <tr>\n",
       "      <th>3</th>\n",
       "      <td>l4</td>\n",
       "      <td>c5</td>\n",
       "    </tr>\n",
       "    <tr>\n",
       "      <th>4</th>\n",
       "      <td>l5</td>\n",
       "      <td>c5</td>\n",
       "    </tr>\n",
       "  </tbody>\n",
       "</table>\n",
       "</div>"
      ],
      "text/plain": [
       "   id companyId\n",
       "0  l1        c1\n",
       "1  l2        c2\n",
       "2  l3        c3\n",
       "3  l4        c5\n",
       "4  l5        c5"
      ]
     },
     "execution_count": 110,
     "metadata": {},
     "output_type": "execute_result"
    }
   ],
   "source": [
    "import pandas as pd\n",
    "\n",
    "companies_df = pd.DataFrame(companies)\n",
    "land_parcels_df = pd.DataFrame(land_parcels)\n",
    "\n",
    "# land_parcels_df = land_parcels_df.rename(columns={\"id\" : \"lp_id\"})\n",
    "\n",
    "land_parcels_df"
   ]
  },
  {
   "cell_type": "code",
   "execution_count": 62,
   "id": "65493beb",
   "metadata": {},
   "outputs": [
    {
     "name": "stdout",
     "output_type": "stream",
     "text": [
      "{'c5', 'c6', 'c3'}\n"
     ]
    }
   ],
   "source": [
    "def flatten_nested_list(parent_list):\n",
    "    \n",
    "    flat_list = [child for child_list in parent_list for child in child_list]\n",
    "    \n",
    "    while flat_list != [child for child_list in flat_list for child in child_list]:\n",
    "        return(flatten(tt))\n",
    "    \n",
    "    return tt\n",
    "\n",
    "def get_child_list(df, company_id):\n",
    "    \n",
    "    list_of_children = []\n",
    "    \n",
    "    child_mask = (df['parentId'] == company_id) & (df['id'] != company_id)\n",
    "    childern_df = df[child_mask]\n",
    "    \n",
    "    first_children = childern_df['id'].values.tolist()\n",
    "    \n",
    "    if len(first_children) == 0:\n",
    "        return list_of_children\n",
    "    \n",
    "    list_of_children.append(first_children)\n",
    "    \n",
    "    for child_id in first_children:\n",
    "        list_of_children.append(get_child_list(df, child_id))\n",
    "\n",
    "    # to flatten the list \n",
    "    list_of_children =  set(flatten_nested_list(list_of_children))\n",
    "    \n",
    "    return list_of_children\n",
    "\n",
    "def get_land_parcels_for_company(company_id):\n",
    "    \n",
    "    companies_and_parcels = companies_df.merge\n"
   ]
  },
  {
   "cell_type": "code",
   "execution_count": 59,
   "id": "554e3ed1",
   "metadata": {},
   "outputs": [
    {
     "ename": "NameError",
     "evalue": "name 'tt' is not defined",
     "output_type": "error",
     "traceback": [
      "\u001b[0;31m---------------------------------------------------------------------------\u001b[0m",
      "\u001b[0;31mNameError\u001b[0m                                 Traceback (most recent call last)",
      "\u001b[0;32m<ipython-input-59-ae38da7bd965>\u001b[0m in \u001b[0;36m<module>\u001b[0;34m\u001b[0m\n\u001b[1;32m     11\u001b[0m     \u001b[0;32mreturn\u001b[0m \u001b[0mtt\u001b[0m\u001b[0;34m\u001b[0m\u001b[0;34m\u001b[0m\u001b[0m\n\u001b[1;32m     12\u001b[0m \u001b[0;34m\u001b[0m\u001b[0m\n\u001b[0;32m---> 13\u001b[0;31m \u001b[0mlist\u001b[0m\u001b[0;34m(\u001b[0m\u001b[0mflatten\u001b[0m\u001b[0;34m(\u001b[0m\u001b[0mlk\u001b[0m\u001b[0;34m)\u001b[0m\u001b[0;34m)\u001b[0m\u001b[0;34m\u001b[0m\u001b[0;34m\u001b[0m\u001b[0m\n\u001b[0m",
      "\u001b[0;32m<ipython-input-59-ae38da7bd965>\u001b[0m in \u001b[0;36mflatten\u001b[0;34m(t)\u001b[0m\n\u001b[1;32m      6\u001b[0m \u001b[0;31m#     tt = [item for sublist in t for item in sublist]\u001b[0m\u001b[0;34m\u001b[0m\u001b[0;34m\u001b[0m\u001b[0;34m\u001b[0m\u001b[0m\n\u001b[1;32m      7\u001b[0m \u001b[0;34m\u001b[0m\u001b[0m\n\u001b[0;32m----> 8\u001b[0;31m     \u001b[0;32mwhile\u001b[0m \u001b[0mtt\u001b[0m \u001b[0;34m!=\u001b[0m \u001b[0;34m[\u001b[0m\u001b[0mitem\u001b[0m \u001b[0;32mfor\u001b[0m \u001b[0msublist\u001b[0m \u001b[0;32min\u001b[0m \u001b[0mtt\u001b[0m \u001b[0;32mfor\u001b[0m \u001b[0mitem\u001b[0m \u001b[0;32min\u001b[0m \u001b[0msublist\u001b[0m\u001b[0;34m]\u001b[0m\u001b[0;34m:\u001b[0m\u001b[0;34m\u001b[0m\u001b[0;34m\u001b[0m\u001b[0m\n\u001b[0m\u001b[1;32m      9\u001b[0m         \u001b[0;32mreturn\u001b[0m\u001b[0;34m(\u001b[0m\u001b[0mflatten\u001b[0m\u001b[0;34m(\u001b[0m\u001b[0mtt\u001b[0m\u001b[0;34m)\u001b[0m\u001b[0;34m)\u001b[0m\u001b[0;34m\u001b[0m\u001b[0;34m\u001b[0m\u001b[0m\n\u001b[1;32m     10\u001b[0m \u001b[0;34m\u001b[0m\u001b[0m\n",
      "\u001b[0;31mNameError\u001b[0m: name 'tt' is not defined"
     ]
    }
   ],
   "source": [
    "import itertools\n",
    "\n",
    "lk = ['3','0',['4',['5','0']],'0','12',['45',['15',['1','0']]]]\n",
    "\n",
    "def flatten(t):\n",
    "    \n",
    "    tt = [item for sublist in t for item in sublist]\n",
    "    \n",
    "    while tt != [item for sublist in tt for item in sublist]:\n",
    "        return(flatten(tt))\n",
    "    \n",
    "    return tt\n",
    "\n",
    "list(flatten(lk))"
   ]
  },
  {
   "cell_type": "code",
   "execution_count": 114,
   "id": "d55764b0",
   "metadata": {},
   "outputs": [
    {
     "data": {
      "text/plain": [
       "['l1', 'l3', 'l4', 'l5']"
      ]
     },
     "execution_count": 114,
     "metadata": {},
     "output_type": "execute_result"
    }
   ],
   "source": [
    "def get_children(df, company_id):\n",
    "    \n",
    "    child_mask = (df['parentId'] == company_id) & (df['id'] != company_id)\n",
    "    children = df.loc[child_mask, ['id']]\n",
    "    \n",
    "    for child_id in children[\"id\"].values.tolist():\n",
    "        children = children.append(get_children(df, child_id))\n",
    "    \n",
    "    return children\n",
    "\n",
    "def get_land_parcels_for_company(company_id):\n",
    "    \n",
    "    children = get_children(companies_df, company_id)\n",
    "    \n",
    "    land_parcels = land_parcels_df[land_parcels_df[\"companyId\"] == company_id]\n",
    "    \n",
    "    land_parcels_indirect = land_parcels_df[land_parcels_df[\"companyId\"].isin(children[\"id\"])]\n",
    "    \n",
    "    land_parcels = land_parcels.append(land_parcels_indirect)\n",
    "    \n",
    "    return land_parcels[\"id\"].unique().tolist()\n",
    "\n",
    "get_land_parcels_for_company(\"c1\")"
   ]
  },
  {
   "cell_type": "code",
   "execution_count": null,
   "id": "5c24cf2c",
   "metadata": {},
   "outputs": [],
   "source": []
  }
 ],
 "metadata": {
  "kernelspec": {
   "display_name": "Python 3",
   "language": "python",
   "name": "python3"
  },
  "language_info": {
   "codemirror_mode": {
    "name": "ipython",
    "version": 3
   },
   "file_extension": ".py",
   "mimetype": "text/x-python",
   "name": "python",
   "nbconvert_exporter": "python",
   "pygments_lexer": "ipython3",
   "version": "3.9.5"
  }
 },
 "nbformat": 4,
 "nbformat_minor": 5
}
